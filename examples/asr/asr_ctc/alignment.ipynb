{
 "cells": [
  {
   "cell_type": "code",
   "execution_count": 12,
   "metadata": {},
   "outputs": [],
   "source": [
    "import torch\n",
    "with open('/data/jykang/NeMo/tokenizer/ctc/vocab.txt') as f:\n",
    "    ctc_token = f.readlines()\n",
    "\n",
    "def ctc_alignment_check_(token):\n",
    "    label =''\n",
    "    for i, t in enumerate(token):\n",
    "        if t != 128:\n",
    "            new_token = ctc_token[t-1].replace('\\n', '').replace('#', '')\n",
    "            new_token = new_token+(5-len(new_token))*' '\n",
    "            label += new_token\n",
    "        else:\n",
    "            label += '_    '\n",
    "    print(label)"
   ]
  },
  {
   "cell_type": "code",
   "execution_count": 26,
   "metadata": {},
   "outputs": [],
   "source": [
    "import numpy as np\n",
    "a = np.load('/data/jykang/NeMo/data/softmax_aug/time_mask_5/train-clean-100/19-198-0001.npy')\n",
    "b = np.load('/data/jykang/NeMo/data/softmax/train-clean-100/19-198-0001.npy')\n",
    "c = np.load('/data/jykang/NeMo/data/softmax_aug/time_mask_5/train-clean-100/19-198-0002.npy')\n",
    "d = np.load('/data/jykang/NeMo/data/softmax/train-clean-100/19-198-0002.npy')\n",
    "a = a.argmax(axis=-1)\n",
    "b = b.argmax(axis=-1)\n",
    "c = c.argmax(axis=-1)\n",
    "d = d.argmax(axis=-1)"
   ]
  },
  {
   "cell_type": "code",
   "execution_count": 27,
   "metadata": {},
   "outputs": [
    {
     "name": "stdout",
     "output_type": "stream",
     "text": [
      "_    _    _    _    _    _    _    _    _    _    _    _    _    _    this _    _    _    _    _    li   _    t    _    t    _    le   _    _    w    _    or   _    _    k    _    _    _    _    was  _    _    _    f    _    in   in   i    i    s    h    h    ed   ed   _    in   _    _    _    the  _    ▁    ▁    y    e    e    ar   _    _    _    e    _    igh  _    t    _    e    e    en   en   _    _    o    _    _    _    _    _    _    th   _    re   _    _    e    _    _    _    _    _    _    _    _    _    _    _    and  _    _    _    _    in   _    _    _    t    _    _    en   _    d    _    _    ed   _    for  _    _    _    i    _    m    _    m    ed   i    i    a    a    t    e    _    p    u    b    b    l    l    i    _    c    _    _    a    _    _    _    _    tion _    _    _    _    _    _    _    _    _    _    _    _    _    _    _    _    _    _    _    _    _    _    _    _    _    _    _    _    _    _    _    _    _    _    _    _    _    _    _    _    _    _    _    it   _    _    _    _    was  _    _    _    d    i    s    s    p    _    o    _    _    s    _    ed   _    of   _    _    _    to   _    _    _    a    b    _    o    _    o    k    _    _    s    _    e    _    ll   _    er   _    _    _    _    _    _    _    _    _    it   _    _    _    was  was  _    _    e    _    _    ve   n    n    _    _    a    _    d    d    ver  ver  _    _    t    i    i    _    _    s    _    ed   ed   _    _    _    _    _    \n",
      "_    _    _    _    _    _    _    _    _    _    _    _    _    _    this _    _    _    _    _    li   _    t    _    t    _    le   _    _    w    _    or   _    _    k    _    _    _    _    was  _    _    _    f    _    in   in   i    i    s    h    h    ed   ed   _    in   _    _    _    the  the  ▁    ▁    y    e    e    ar   _    _    _    e    _    igh  _    t    _    e    e    en   en   _    _    o    _    _    _    _    _    _    th   _    re   _    _    e    _    _    _    _    _    _    _    _    _    _    _    and  _    _    _    _    in   _    _    _    t    _    _    en   _    d    _    _    ed   _    for  _    _    _    i    _    m    _    m    ed   i    i    a    t    t    e    _    p    u    b    b    l    l    i    _    c    _    _    a    _    _    _    _    tion _    _    _    _    _    _    _    _    _    _    _    _    _    _    _    _    _    _    _    _    _    _    _    _    _    _    _    _    _    _    _    _    _    _    _    _    _    _    _    _    _    _    it   _    _    _    was  _    _    _    _    d    _    i    s    s    p    _    o    _    s    _    _    ed   _    of   _    _    _    to   _    _    _    a    _    b    o    _    o    o    k    _    s    _    e    _    ll   _    _    er   _    _    _    _    _    _    _    _    it   _    _    _    was  _    _    _    e    _    _    ve   n    n    _    _    a    _    d    d    ver  _    _    t    t    i    i    _    _    s    _    _    ed   _    _    _    _    _    \n",
      "_    _    _    _    ▁    _    n    n    e    i    i    ther ther _    the  _    _    _    a    _    u    _    _    th   _    or   _    _    _    no   _    r    _    _    _    the  _    p    u    b    b    l    _    i    c    _    _    _    have _    _    _    _    an   _    _    y    _    _    o    _    _    ther _    _    _    con  _    _    _    _    c    _    er   _    _    n    _    _    _    _    _    _    th   _    un   _    _    _    _    _    _    _    s    o    _    m    e    _    o    _    b    b    s    _    _    er   _    v    _    a    _    _    _    _    tion _    _    is   _    _    ▁    ▁    n    e    e    ce   _    s    _    s    _    _    ar   _    y    _    _    _    up   _    _    _    on   _    _    th   o    _    s    e    e    p    _    _    ar   _    _    t    _    s    s    _    of   _    the  _    _    w    _    or   _    _    k    _    _    _    _    _    which_    _    _    _    _    _    th   _    ir   _    _    t    _    e    _    en   _    _    ▁    _    y    e    _    ar   _    s    _    _    _    have _    _    _    _    _    ma   _    _    d    e    _    _    _    _    c    _    o    m    _    p    _    ar   _    a    _    t    i    i    ve   _    ly   _    _    o    _    b    b    _    s    o    _    le   le   _    _    t    e    e    _    _    _    _    _    _    _    _    _    _    _    _    \n",
      "_    _    _    _    _    ▁    n    n    e    i    i    ther ther _    the  _    _    _    a    _    u    u    _    th   _    or   _    _    no   _    _    r    r    _    the  _    _    p    u    b    b    l    l    i    c    _    _    _    have _    _    _    _    an   _    _    y    y    _    o    _    _    ther _    _    _    _    con  _    _    _    c    _    er   _    n    n    _    _    _    _    _    _    th   _    an   _    _    _    as   _    _    _    s    _    o    m    e    e    _    o    b    b    _    s    _    er   _    _    v    a    a    _    _    tion _    _    _    is   _    _    ▁    _    n    e    ce   ce   s    s    _    s    _    ar   ar   y    y    _    _    _    up   _    _    on   on   _    th   th   o    _    s    e    e    _    p    _    ar   _    _    t    _    s    s    of   _    _    the  _    _    w    _    or   _    _    k    _    _    _    _    _    which_    _    _    _    _    th   _    ir   _    _    _    t    _    e    _    en   _    _    _    ▁    y    y    e    _    ar   _    s    _    _    have _    _    _    _    ma   _    _    d    e    e    _    _    _    _    c    o    _    m    _    p    ar   ar   _    a    _    t    i    _    ve   _    ly   _    _    _    o    b    b    _    s    o    _    le   le   _    _    t    e    e    _    _    _    _    _    _    _    _    _    _    _    _    \n"
     ]
    }
   ],
   "source": [
    "ctc_alignment_check_(a)\n",
    "ctc_alignment_check_(b)\n",
    "ctc_alignment_check_(c)\n",
    "ctc_alignment_check_(d)"
   ]
  }
 ],
 "metadata": {
  "kernelspec": {
   "display_name": "nemo_rnnt",
   "language": "python",
   "name": "python3"
  },
  "language_info": {
   "codemirror_mode": {
    "name": "ipython",
    "version": 3
   },
   "file_extension": ".py",
   "mimetype": "text/x-python",
   "name": "python",
   "nbconvert_exporter": "python",
   "pygments_lexer": "ipython3",
   "version": "3.10.0"
  },
  "orig_nbformat": 4
 },
 "nbformat": 4,
 "nbformat_minor": 2
}
