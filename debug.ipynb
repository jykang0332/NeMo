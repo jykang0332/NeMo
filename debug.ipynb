{
 "cells": [
  {
   "cell_type": "code",
   "execution_count": 3,
   "metadata": {},
   "outputs": [],
   "source": [
    "import numpy as np\n",
    "import torch\n",
    "import matplotlib.pyplot as plt\n",
    "\n",
    "path = \"/home/jykang/NeMo/data/self_value_attn/dev_clean/84-121123-0002.npy\"\n",
    "attn = np.load(path)\n",
    "\n",
    "\n",
    "# attn = np.sum(attn, axis=1).squeeze()\n",
    "# attn = attn.squeeze(0)\n",
    "# print(attn.shape)\n",
    "attn = attn[0, 0, :, :]\n",
    "# attn = torch.nn.functional.one_hot(torch.tensor(attn).argmax(dim=0)).numpy()\n",
    "fig = plt.figure(figsize=(5,5))\n",
    "ax = fig.add_subplot(1, 1, 1)\n",
    "ax.matshow(attn, cmap='viridis')"
   ]
  }
 ],
 "metadata": {
  "kernelspec": {
   "display_name": "nemo_rnnt",
   "language": "python",
   "name": "python3"
  },
  "language_info": {
   "codemirror_mode": {
    "name": "ipython",
    "version": 3
   },
   "file_extension": ".py",
   "mimetype": "text/x-python",
   "name": "python",
   "nbconvert_exporter": "python",
   "pygments_lexer": "ipython3",
   "version": "3.8.10"
  },
  "orig_nbformat": 4
 },
 "nbformat": 4,
 "nbformat_minor": 2
}
