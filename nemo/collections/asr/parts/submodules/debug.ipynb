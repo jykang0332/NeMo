{
 "cells": [
  {
   "cell_type": "code",
   "execution_count": 18,
   "metadata": {},
   "outputs": [
    {
     "name": "stdout",
     "output_type": "stream",
     "text": [
      "tensor([[1., 0., 0., 0.],\n",
      "        [0., 1., 0., 0.],\n",
      "        [0., 0., 1., 0.],\n",
      "        [0., 0., 0., 1.]])\n",
      "tensor([[1., 0., 0., 0., 0., 0., 0., 0.],\n",
      "        [0., 0., 0., 0., 1., 0., 0., 0.],\n",
      "        [0., 1., 0., 0., 0., 0., 0., 0.],\n",
      "        [0., 0., 0., 0., 0., 1., 0., 0.],\n",
      "        [0., 0., 1., 0., 0., 0., 0., 0.],\n",
      "        [0., 0., 0., 0., 0., 0., 1., 0.],\n",
      "        [0., 0., 0., 1., 0., 0., 0., 0.],\n",
      "        [0., 0., 0., 0., 0., 0., 0., 1.]])\n"
     ]
    }
   ],
   "source": [
    "import torch\n",
    "\n",
    "# 주어진 텐서\n",
    "original_tensor = torch.eye(4)\n",
    "print(original_tensor) \n",
    "\n",
    "# 각 row 사이에 제로(row of zeros) 행을 추가할 위치 계산\n",
    "num_rows, num_cols = original_tensor.size()\n",
    "expanded_size = 2 * num_rows  # 추가된 제로(row of zeros) 행을 포함한 확장된 크기\n",
    "\n",
    "# 각 row 사이에 제로(row of zeros) 행 추가\n",
    "expanded_tensor = torch.zeros(expanded_size, num_rows)\n",
    "a = torch.zeros(expanded_size, num_rows)\n",
    "for i in range(num_rows):\n",
    "    expanded_tensor[i * 2, :] = original_tensor[i, :]\n",
    "    a[i*2 + 1, :] = original_tensor[i, :]\n",
    "\n",
    "final = torch.cat((expanded_tensor, a), dim=1)\n",
    "\n",
    "print(final)"
   ]
  },
  {
   "cell_type": "code",
   "execution_count": 51,
   "metadata": {},
   "outputs": [
    {
     "name": "stdout",
     "output_type": "stream",
     "text": [
      "tensor([[True, True, True, True, True, True, True, True],\n",
      "        [True, True, True, True, True, True, True, True],\n",
      "        [True, True, True, True, True, True, True, True],\n",
      "        [True, True, True, True, True, True, True, True],\n",
      "        [True, True, True, True, True, True, True, True],\n",
      "        [True, True, True, True, True, True, True, True],\n",
      "        [True, True, True, True, True, True, True, True],\n",
      "        [True, True, True, True, True, True, True, True]])\n",
      "tensor([[ True, False,  True, False,  True,  True,  True,  True],\n",
      "        [ True, False,  True, False,  True,  True,  True,  True],\n",
      "        [False, False, False, False, False, False, False, False],\n",
      "        [ True, False,  True, False,  True,  True,  True,  True],\n",
      "        [ True, False,  True, False,  True,  True,  True,  True],\n",
      "        [ True, False,  True, False,  True,  True,  True,  True],\n",
      "        [False, False, False, False, False, False, False, False],\n",
      "        [ True, False,  True, False,  True,  True,  True,  True]])\n"
     ]
    }
   ],
   "source": [
    "mask = torch.ones_like(final, dtype=torch.bool)\n",
    "\n",
    "print(mask)\n",
    "\n",
    "src_idx = torch.tensor([1, 3])\n",
    "\n",
    "mask[src_idx * 2, :] = False\n",
    "mask[:, src_idx] = False\n",
    "\n",
    "print(mask)"
   ]
  },
  {
   "cell_type": "code",
   "execution_count": 52,
   "metadata": {},
   "outputs": [
    {
     "name": "stdout",
     "output_type": "stream",
     "text": [
      "tensor([[1., 0., 0., 0., 0., 0.],\n",
      "        [0., 0., 1., 0., 0., 0.],\n",
      "        [0., 0., 0., 1., 0., 0.],\n",
      "        [0., 1., 0., 0., 0., 0.],\n",
      "        [0., 0., 0., 0., 1., 0.],\n",
      "        [0., 0., 0., 0., 0., 1.]])\n"
     ]
    }
   ],
   "source": [
    "tr = final[mask].reshape(-1, 6)\n",
    "\n",
    "print(tr)"
   ]
  },
  {
   "cell_type": "code",
   "execution_count": 53,
   "metadata": {},
   "outputs": [
    {
     "name": "stdout",
     "output_type": "stream",
     "text": [
      "torch.Size([6, 1])\n"
     ]
    },
    {
     "data": {
      "text/plain": [
       "tensor([[0.],\n",
       "        [1.],\n",
       "        [3.],\n",
       "        [4.],\n",
       "        [5.],\n",
       "        [7.]])"
      ]
     },
     "execution_count": 53,
     "metadata": {},
     "output_type": "execute_result"
    }
   ],
   "source": [
    "unmerged = torch.tensor([[0.],[4.],[1.],[3.],[5.],[7.]])\n",
    "print(unmerged.shape)\n",
    "\n",
    "torch.matmul(tr, unmerged)"
   ]
  }
 ],
 "metadata": {
  "kernelspec": {
   "display_name": "nemo_rnnt",
   "language": "python",
   "name": "python3"
  },
  "language_info": {
   "codemirror_mode": {
    "name": "ipython",
    "version": 3
   },
   "file_extension": ".py",
   "mimetype": "text/x-python",
   "name": "python",
   "nbconvert_exporter": "python",
   "pygments_lexer": "ipython3",
   "version": "3.8.10"
  }
 },
 "nbformat": 4,
 "nbformat_minor": 2
}
