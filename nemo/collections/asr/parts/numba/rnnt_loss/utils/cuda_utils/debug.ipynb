{
 "cells": [
  {
   "cell_type": "code",
   "execution_count": 42,
   "metadata": {},
   "outputs": [
    {
     "name": "stdout",
     "output_type": "stream",
     "text": [
      "128 , 0\n",
      "257 , 1\n",
      "386 , 2\n",
      "515 , 3\n",
      "644 , 4\n"
     ]
    }
   ],
   "source": [
    "import torch\n",
    "\n",
    "blank_ = 128\n",
    "alphabet_size = 129\n",
    "\n",
    "\n",
    "for i in range(645):\n",
    "    if (i - blank_) % alphabet_size == 0:\n",
    "        d = int((i - blank_) / alphabet_size)\n",
    "        print(i, ',', d)"
   ]
  },
  {
   "cell_type": "code",
   "execution_count": 58,
   "metadata": {},
   "outputs": [
    {
     "name": "stdout",
     "output_type": "stream",
     "text": [
      "0 , 0\n",
      "129 , 1\n",
      "258 , 2\n",
      "387 , 3\n",
      "516 , 4\n"
     ]
    }
   ],
   "source": [
    "import torch\n",
    "\n",
    "blank_ = 128\n",
    "alphabet_size = 129\n",
    "\n",
    "\n",
    "for i in range(645):\n",
    "    if (i - 0) % alphabet_size == 0:\n",
    "        d = int((i - 0) / alphabet_size)\n",
    "        print(i, ',', d)"
   ]
  },
  {
   "cell_type": "code",
   "execution_count": null,
   "metadata": {},
   "outputs": [],
   "source": [
    "T = 100\n",
    "for t in range(T, 0, -1):\n",
    "    for i in range(645):\n",
    "        if (i - blank_) % alphabet_size == 0:\n",
    "            d = int((i - blank_) / alphabet_size)\n",
    "            if t < T - d and d > 0:\n",
    "                print(i, \",\", d, '|', t)"
   ]
  },
  {
   "cell_type": "code",
   "execution_count": null,
   "metadata": {},
   "outputs": [],
   "source": [
    "T = 100\n",
    "for t in range(T, 0, -1):\n",
    "    for i in range(645):\n",
    "        if (i - 30) % alphabet_size == 0:\n",
    "            d = int(((i - 30) / alphabet_size))\n",
    "            if t + d < T:\n",
    "                print(i, ',', d, '|', t)"
   ]
  },
  {
   "cell_type": "code",
   "execution_count": 7,
   "metadata": {},
   "outputs": [
    {
     "data": {
      "text/plain": [
       "2"
      ]
     },
     "execution_count": 7,
     "metadata": {},
     "output_type": "execute_result"
    }
   ],
   "source": [
    "import torch\n",
    "\n",
    "k = 129 + 128\n",
    "k = 129 * 2 + 30\n",
    "\n",
    "\n",
    "k % 129\n",
    "k // 129"
   ]
  },
  {
   "cell_type": "code",
   "execution_count": 2,
   "metadata": {},
   "outputs": [
    {
     "name": "stdout",
     "output_type": "stream",
     "text": [
      "0\n",
      "0\n"
     ]
    }
   ],
   "source": [
    "import torch\n",
    "\n",
    "logits = torch.rand(1,1,1,645)\n",
    "\n",
    "vocab_size = int(logits.size(-1) / 5)\n",
    "\n",
    "print(0 % vocab_size)\n",
    "print(0 // vocab_size)"
   ]
  },
  {
   "cell_type": "code",
   "execution_count": null,
   "metadata": {},
   "outputs": [],
   "source": [
    "import torch\n",
    "\n",
    "a = torch.rand(2,3,10)\n",
    "\n",
    "# slice along the last dimension\n",
    "# 0:5 and then 6:8\n",
    "print(a)\n",
    "b = a[:,:,0:5]\n",
    "c = a[:,:,6:8]\n",
    "d = torch.cat((b,c),dim=2)\n",
    "print(d)\n",
    "print(d.shape)\n"
   ]
  },
  {
   "cell_type": "code",
   "execution_count": null,
   "metadata": {},
   "outputs": [],
   "source": [
    "import torch\n",
    "\n",
    "a = torch.rand(2,3,4)\n",
    "b = a.view([-1])\n",
    "print(a)\n",
    "print(b)\n",
    "print(b.shape)\n",
    "\n",
    "c = b.reshape(2,3,4)\n",
    "print(c)"
   ]
  },
  {
   "cell_type": "code",
   "execution_count": 32,
   "metadata": {},
   "outputs": [
    {
     "data": {
      "text/plain": [
       "257"
      ]
     },
     "execution_count": 32,
     "metadata": {},
     "output_type": "execute_result"
    }
   ],
   "source": [
    "durations = [0,1,2,3,4]\n",
    "\n",
    "alphabet_size = 129\n",
    "\n",
    "(durations[1] + 1) * alphabet_size - 1\n",
    "129 + 128\n"
   ]
  },
  {
   "cell_type": "code",
   "execution_count": 1,
   "metadata": {},
   "outputs": [
    {
     "name": "stdout",
     "output_type": "stream",
     "text": [
      "dict_keys(['epoch', 'global_step', 'pytorch-lightning_version', 'state_dict', 'loops', 'callbacks', 'optimizer_states', 'lr_schedulers', 'hparams_name', 'hyper_parameters', 'hparams_type'])\n",
      "656\n",
      "dict_keys(['state', 'param_groups'])\n",
      "torch.Size([134])\n",
      "torch.Size([134])\n",
      "torch.Size([134, 320])\n",
      "torch.Size([134, 320])\n"
     ]
    }
   ],
   "source": [
    "import os\n",
    "os.environ[\"CUDA_VISIBLE_DEVICES\"] = '6,7'\n",
    "\n",
    "\n",
    "import torch\n",
    "\n",
    "a = torch.load('/home/jykang/NeMo/nemo_experiments/Conformer-TDT-BPE-Stateless-DEP/test3/2023-08-10_14-04-33--val_wer=0.0383-epoch=150-last_expanded.ckpt')\n",
    "print(a.keys())\n",
    "print(len(a['state_dict'].keys()))\n",
    "print(a['state_dict'].keys())\n",
    "print(a['optimizer_states'][0].keys())\n",
    "\n",
    "print(a['optimizer_states'][0]['state'][605]['exp_avg_sq'].shape)\n",
    "print(a['optimizer_states'][0]['state'][605]['exp_avg'].shape)\n",
    "\n",
    "print(a['optimizer_states'][0]['state'][604]['exp_avg_sq'].shape)\n",
    "print(a['optimizer_states'][0]['state'][604]['exp_avg'].shape)\n"
   ]
  },
  {
   "cell_type": "code",
   "execution_count": 1,
   "metadata": {},
   "outputs": [],
   "source": [
    "import os\n",
    "os.environ[\"CUDA_VISIBLE_DEVICES\"] = '6,7'\n",
    "\n",
    "\n",
    "import torch\n",
    "\n",
    "checkpoint = torch.load('/home/jykang/NeMo/nemo_experiments/Conformer-TDT-BPE-Stateless-DEP/test3/2023-08-10_14-04-33--val_wer=0.0383-epoch=150-last.ckpt')\n",
    "state_dict = checkpoint['state_dict']\n",
    "num_durations = 5\n",
    "\n",
    "checkpoint['optimizer_states'][0]['state'][605]['exp_avg_sq'] = torch.rand(645)\n",
    "checkpoint['optimizer_states'][0]['state'][605]['exp_avg'] = torch.rand(645)\n",
    "checkpoint['optimizer_states'][0]['state'][604]['exp_avg_sq'] = torch.rand(645, 320)\n",
    "checkpoint['optimizer_states'][0]['state'][604]['exp_avg'] = torch.rand(645, 320)\n",
    "\n",
    "\n",
    "label_state = state_dict['joint.joint_net.2.weight'][:-num_durations, :] # (129, 320)\n",
    "label_bais_state = state_dict['joint.joint_net.2.bias'][:-num_durations] # (129)\n",
    "\n",
    "duration_state = state_dict['joint.joint_net.2.weight'][-num_durations:, :] # (5, 320)\n",
    "duration_bais_state = state_dict['joint.joint_net.2.bias'][-num_durations:] # (5)\n",
    "\n",
    "duration_state = duration_state.repeat_interleave(label_state.shape[0], dim=0) # (645, 320)\n",
    "duration_bais_state = duration_bais_state.repeat_interleave(label_state.shape[0]) # (645)\n",
    "\n",
    "label_state = label_state.repeat(num_durations, 1) # (645, 320)\n",
    "label_bais_state = label_bais_state.repeat(num_durations) # (645)\n",
    "\n",
    "\n",
    "new_state = label_state + duration_state # (645, 320)\n",
    "new_bais_state = label_bais_state + duration_bais_state # (645)\n",
    "\n",
    "\n",
    "new_state_dict = {}\n",
    "for key in state_dict.keys():\n",
    "    if key == 'joint.joint_net.2.weight':\n",
    "        new_state_dict[key] = new_state\n",
    "    elif key == 'joint.joint_net.2.bias':\n",
    "        new_state_dict[key] = new_bais_state\n",
    "    else:\n",
    "        new_state_dict[key] = state_dict[key]\n",
    "\n",
    "\n",
    "checkpoint['state_dict'] = new_state_dict\n",
    "torch.save(checkpoint, '/home/jykang/NeMo/nemo_experiments/Conformer-TDT-BPE-Stateless-DEP/test3/2023-08-10_14-04-33--val_wer=0.0383-epoch=150-last_test3.ckpt')\n"
   ]
  },
  {
   "cell_type": "code",
   "execution_count": null,
   "metadata": {},
   "outputs": [],
   "source": [
    "print(label_bais_state.shape)\n",
    "print(label_bais_state[0] == label_bais_state[129])\n",
    "print(label_bais_state[0] == label_bais_state[1])\n",
    "print(label_state.shape)\n",
    "print(label_state[0] == label_state[129])\n",
    "print(label_state[0] == label_state[1])"
   ]
  },
  {
   "cell_type": "code",
   "execution_count": null,
   "metadata": {},
   "outputs": [],
   "source": [
    "print(duration_bais_state.shape)\n",
    "print(duration_bais_state[0] == duration_bais_state[129])\n",
    "print(duration_bais_state[0] == duration_bais_state[1])\n",
    "print(duration_state.shape)\n",
    "print(duration_state[0] == duration_state[129])\n",
    "print(duration_state[0] == duration_state[1])"
   ]
  },
  {
   "cell_type": "code",
   "execution_count": 39,
   "metadata": {},
   "outputs": [
    {
     "name": "stdout",
     "output_type": "stream",
     "text": [
      "torch.Size([645, 320])\n",
      "torch.Size([645])\n"
     ]
    }
   ],
   "source": [
    "expanded = torch.load('/home/jykang/NeMo/nemo_experiments/Conformer-TDT-BPE-Stateless-DEP/test3/2023-08-10_14-04-33--val_wer=0.0383-epoch=150-last_expanded.ckpt')\n",
    "\n",
    "\n",
    "print(expanded['state_dict']['joint.joint_net.2.weight'].shape)\n",
    "print(expanded['state_dict']['joint.joint_net.2.bias'].shape)   "
   ]
  },
  {
   "cell_type": "code",
   "execution_count": 41,
   "metadata": {},
   "outputs": [
    {
     "data": {
      "text/plain": [
       "0"
      ]
     },
     "execution_count": 41,
     "metadata": {},
     "output_type": "execute_result"
    }
   ],
   "source": [
    "int((129-30)/129)"
   ]
  }
 ],
 "metadata": {
  "kernelspec": {
   "display_name": "nemo_rnnt",
   "language": "python",
   "name": "python3"
  },
  "language_info": {
   "codemirror_mode": {
    "name": "ipython",
    "version": 3
   },
   "file_extension": ".py",
   "mimetype": "text/x-python",
   "name": "python",
   "nbconvert_exporter": "python",
   "pygments_lexer": "ipython3",
   "version": "3.8.10"
  },
  "orig_nbformat": 4
 },
 "nbformat": 4,
 "nbformat_minor": 2
}
